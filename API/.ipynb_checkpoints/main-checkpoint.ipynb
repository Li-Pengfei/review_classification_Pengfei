{
 "cells": [
  {
   "cell_type": "code",
   "execution_count": 1,
   "metadata": {
    "collapsed": true
   },
   "outputs": [],
   "source": [
    "import numpy as np\n",
    "import cPickle\n",
    "import nltk\n",
    "from nltk.corpus import stopwords\n",
    "from collections import Counter\n",
    "from sklearn.metrics.pairwise import pairwise_distances\n",
    "import itertools\n",
    "import string\n",
    "from nltk.tokenize import sent_tokenize\n",
    "from nltk.stem.porter import *\n",
    "import pandas as pd\n",
    "\n",
    "xlsx_path = '/home/dongzhe/Documents/review_cluster/data/HT Data.xlsx'\n",
    "\n",
    "df=pd.read_excel(xlsx_path, sheetname=\"Sheet1\")\n",
    "all_data = df.values.tolist()\n",
    "x = [item for sublist in all_data for item in sublist]\n",
    "x = [i.split(',') for i in x[1:]]\n",
    "#import pyemd\n",
    "#loading word embeddings\n",
    "#wv = KeyedVectors.load_word2vec_format(\"../w2v/w2vemb.bin\", binary=True)"
   ]
  },
  {
   "cell_type": "markdown",
   "metadata": {},
   "source": [
    "# Visualize functions"
   ]
  },
  {
   "cell_type": "markdown",
   "metadata": {},
   "source": [
    "# Reading Raw text"
   ]
  },
  {
   "cell_type": "code",
   "execution_count": 3,
   "metadata": {},
   "outputs": [
    {
     "name": "stdout",
     "output_type": "stream",
     "text": [
      "length of content 168\n",
      "['after taking appointment then also i have to wait 1 to 1 and half hour . even there was no rush , work should be done immediately .', 'service center should provide comfortable time for servicing from there end . or they should arrange service like we can do booking through messages . also toyota has given only one number for all services .', 'after arranging the appointment they should quickly service the car and also delivery of car should fast .', 'they pick up the phone and then disconnect it . they tell their schedule is busy , they say it will take some time we will call you but they never call back . and when we call the service station then immediately they ask us to send the car . they should tell us the schedule properly .', 'toyota have an app , it \\\\? s a mobile app which is not applicable for all the customers . first of all , this app should be for every customer . this app should be available for all the users . also this app should be free for all the users . through this app we can fix appointments . if we have any problem we can register there , so that we can get expert advice plus . we would get proactive information . we should know after how much kilometer of car driven should we do the servicing of the car so that accordingly we can take an appointment . such mobile app toyota must add so that we do not face any problem in appointment fixing .', 'they must keep customer care person to take appointments and you must also increase the dealership .', 'last time appointment was been cancelled . they should arranged about the appointments , no customer should return . they should have consult with the owner about the servicing time .', 'after take appointment dealership staff should be servicing the car that time because customer take appointment but staff are not servicing car that time we have to wait for unnecessary 25minutes so that should be improved and they should have followed the appointment time properly .', 'toyota car is best in the market even the customer of toyota is much . its renold company all the people thinks they will give quick response , they will talk good and treat in good manner . jd is currently opened and location also we do not know . i made them call but they did not pick the call so i made the call to the showroom and they provide me one number . i reached to the city where their is showroom they said service will not happen so they again provide one more number . i said them the number which you provide me provide to all so we will not face any difficulties to search .', 'whenever customer need to get service they should do servicing it that time frame . if we want to take our vehicle out of city at that time they should do servicing of our car .', 'the procedure of appointment should be improved . as there are so many cars which executive need to follow so it takes much more time and i sat for long time .', 'they give us time for the service appointment but if any other vehicle comes , they start doing servicing of that vehicle before we come . so this should not be done as they should give attention to the appointment vehicles first .', 'they should make improvement in fixing the appointment . they do not work like the way they earlier used to do .', 'when customer call to service center for take appointment that time they are not giving proper appointment .', 'there are 1 dealership only they should open more because we have to wait around 4 5 days . to collect the car i have to come 15 km from home so they should open in jaipur also one more service center .', 'if you have given appointment to the customer then his car also has to be received . if you do not receive then what is the use of appointment . when can go to another dealer also apart from uttam toyota . if customer has entered the service center after taking an appointment , then his car should be handled at the earliest and must give the solution . put the car on the service', 'if we take appointment then they tell us to visit by 10 11 or if we visit on time they do not able provide service on time . if they are providing a time period then they should fulfill on given time . they should improve in this . they should provide timing for appointment .', 'last time when i made a call for appointment not a single phone was connecting . we made call on 3 4 number then we pick the number from google then took appointment .', 'first of all receive the client who comes there or very first fill the job card . nobody comes to receive us . they must not make us wait for 1 1 hour . must attend us immediately since the person has taken appointment , finish his work first . there is a need to improve in cleaning department . your seniors must think about this . i wanted to complain i did now you look after it .', 'pick up and drop facility should be available .', 'staff is less . due to that waiting time is more . they have to do first seeing . they have to fallow the note pad for taking the appointment from the customer', 'whenever i go for service i have to wait outside of dealership till 30 minuets . we have to wait on compound and even they don \\\\? t have parking space so we park our vehicle on road because of this we cannot leave our vehicle park on road .', 'it would be convenient for customers like me if the service center is in the local area , as it will save the time as well as the crowd will be less . as of now we need to travel 20 km to reach the service center .', 'they should trained the staff who are taking appointments .', 'i told them to take my car for test drive and inspected but i spend my one and half hour as they denied to check the car with the method i told them', 'they should service the car without appointments also .', 'persons not available at that are persons should be available to receiving the center . they have to give the proper details they have to provide the knowledge persons for explaining . after receiving the vehicle . the vehicle is not cleaning what ever the center they have to fallowing they . the dealership location is traffic place they have to the space of the dealership location parking place provide should be available . they are not servicing the after acutely problems but asking the different query', 'they should deliver car at the promised time . they said it will take 4 hours but actually they took whole day .', 'they should do the work which they committed and also should not take too much time .', 'they should not take too much time of customers .', 'when customer comes in dealership that time they should quickly attend the customer give to proper response .', 'some times we called that time they said as the space is not available there . so they should arrange the other place . they should open more service centers .', 'i always taken appointment before the one day but then also after the visiting number was arriving late as well as i was facing problems . it would be good if they receive the car on time it means when we are taken number for appointment on the same number they should receive the car .', 'after service while collecting vehicle it took too much time . we have to wait half hour to one hour . staffs are ok . after taking car for service should be done in half hour . they should pick our car within half hour of service .', 'if we get the appointment on the time which we want so it will be ok . like if we want appointment on sunday so we did not get it . we are getting it very difficultly .', 'they should do more improvement in fixing the appointment for the car servicing .', 'for appointment we have to call them 1 week to 2 weeks before . if i go to bangalore or coimbatore we will give in 2 days but here i have to wait for 1 or 1 and half week', 'appointment availability is not there in dealership . whenever we call they give us appointment after 3 4 days .', 'they do not give response when we call them for service appointments .', 'if any customer take appointment that time they should tell to the customer how much vehicle is there for the servicing and how much time it will take . they should not attend f to known customers first . they should treat to every customer equally .', 'you can improve your service i want next day appointment but they gave me after one week appointment .', 'no improvement require all are fine', 'there should be assigned 1 telephone or mobile for asking the appointment . they should getting an appointment by call . location is convenient place and charges are normal .', 'servicing like oiling and greasing should be done properly . just do not wash and give . should be checked completely if it is perfect or no . what problem is there and what problem can come in future even this they should tell us . and outside customer like i went to korba from vilaspur and they were giving me two days time for servicing so i had to stay there for 2 days so that i could do complete servicing and need not come again . i went there by taking appointment . i reached there by 11 am after that they gave me car in the evening . i reached there on their buffer time so then they tell me your car is in waiting . they made me wait for 8 hours . they tell us to give 5 , 4 pointy means dealer himself is doing a mistake . customer will go to any location and those whom you call by appointment their work should be done on priority . outside customers should be given service before the local customers . and then in such a crowd they will give the car only after washing . they gave me 1 pm timing and i reached on correct time but they took the car for servicing at 4 pm . so i told them i need to go back so they just washed the car . servicing must be done perfectly in the given appointment time .', 'no improvement require all are fine', 'when we call for the appointment they should give the appointment on same day .', 'no improvement require', 'i need sms alert or any time of alert before one month for service appointment , because i stay far from the service station so i need to arrange some vehicle for servicing or i need to call my friends or relatives to pick up drop .', 'i don \\\\? t get the quick booking service from the dealership they are taking approx . 1week 2 days time to book the servicing request . if toyota improved this service then it will be good for customers . a customer always wants to get benefits , if i get the service next day after called then it good for me . when i make call to them they are busy', 'i don \\\\? t have time to drop my car usually i ask them to pick the car , but they give me dates when i am not free . i ask them to pick up the car whenever i am free .', 'i used car for one year only , but within this year also ac was not work properly , so they should work on it as soon as possible .', 'service must be done on time', 'they should be satisfied customers properly', 'amana toyota opened the new service centre . but the full facilities are not yet available . that is one of the area amana toyota should improve . fullest service including water get service is not yet available . they should have fullest service they should give appointment on time also', 'no improvement require', \"online facility to available for customer . if the online facility should be started on 9 . 00 then we will come to know when my car going to servicing . if they do n't have time then we can do it at evening .\", \"to get the appointment for servicing the car , ca n't get the appointment on own convenience time . though if it will get , then they kept the car aside for 3 to 4 days .\", 'they have to increase the staff .', 'they have to take the servicing immediately .', 'i have one problem that we are not getting appointment on time and if there is any festival that we are facing some problem . but in appointment the service center is there it is like of sbi . you people know the address of customer in which area which customer is there on that you can send the advice and it is near by from there . if we will get appointment like this it will be better .', 'they should be improve in pick up and drop . one time i have an emergency , when i call them for appointment for pick up and drop but they not done . i had to visit over there . i have an emergency but had to go there personally . they should be improve in service appointment', 'i was travelling from chennai to coimbatore for all service , when i ask for appointment they normally delays two days to fix the appointment itself . so if they fix the appointment immediately then it will save my timing', 'when we taken the appointment that time car service must be done .', 'appointment should be improved , they are not appointed when our given time , they giving other time .', 'they have to talk properly . kindly look into this matter', 'they are taking appointment on computer , online booking instead of they have to take the appointment on phone it will be good for us .', 'when we are giving appointment they are not responding for us and not taking care , it should be improved .', 'first we not get appointment only . if we get the appointment we get it so let let only .', 'i look for the slot time by 9 00am and 9 30am but i always get the appointment by 11 00am or 11 30am or 12 00pm even i take 1week prior appointment i get the same so , it should 9 00am or 9 30am so that it would be comfortable .', 'they are not taking appointment if any customers caris suddenly break doen so break down service also they are not arrangimg immidiate appointment . they have to make an parellel appointment .', \"we need to take booking before 7 days at toyota service location . then they come at home take your car with then . but other companies did n't follow such thing . they take your car for servicing any time whenever you take your car at service station .\", 'no improvement require', 'they are taking more time to give appointment we should get appointment early .', 'they have to provide the communicated time period when they receive the vehicle . speed of the service', 'when i called at service center appointment my servicing the car , then they told me , now , we had not time , you are called us before time only , they should be given details to the customer about appointment time . they should be calling us pickup and drops timing .', 'during the servicing time , the dealership staff must say to customers to sit and we will do your work .', 'they called themselves for the appointment that your cars run this much kilometer do the servicing . so they should give appointment to customer on time .', 'if we are appointment to the call , then they are not response to us . they are transferring the call one another . it should be improved .', 'other than annamalai service centre no need any appointment for service but here every small thing also we have to take appointment . for emergency also we have to take appointment it consume time .', 'the receiving should be good .', 'at dealership servicing and appointment should be improved . how should be it is improved i am not possible to saying .', 'servicing should be done in time to time .', 'which appointment has fixed to the customer they should be 100 should be given', 'i am not told that servicing work , we should be thought that the work how it is doing it', 'once i had got an call from surat . they told me to do booking and when i had done the booking they told there are many cars . so i told but i had done the booking then they took my car . it is 60 km away from my town and i had to go specially for servicing . so there should be same improvement .', 'they can call me remind it my next service .', 'when we take appointment of the car we face problem at that time .', 'i called to toll free number at lanson dealership so that time the told its not available in lanson dealership at pondicherry they told visit to chennai , but there is available at pondicherry that people are not aware about it . dealership people should be aware all this things . service must be improving .', 'if we give the car for servicing they take more time to return it . we don \\\\? t get appointment quickly . if we get the appointment then also it takes 1 \\\\? month . we should get appointment in 2 3 days .', 'no improvement require', 'appointment should get on same day .', 'appointment should be improved .', 'appointments first day they should be calling to the customer , otherwise we taken away the car at service center , then we returning back our car .', 'easy to servicing appointment job card appointment taken 10 to 15 minutes after it opened . that is why service advisor should be more .', 'after going there they should be provide appointment facility .', 'at last service i am waited too much time , should be improved appointment . if there less car for servicing we are not waited long time . that day more cars at servicing . hence i had waited more time .', 'this appointment should be made early .', 'another companies call if we take a appointment but they are not call us , they should be called once in month .', 'service booking appointment any time , this facility should bring for example net booking and online booking like that it should be for 24 hours it this service would they bring it will be good .', 'for appointment they on time like before 1 month before 1 week 1day or 1hour also they car , but they not give car on time after servicing then what is user call .', 'there is a confusion in between staff of dealership . at the time of purchasing car they give me conation i faced problem in that they have one branch nearby fishayalal ormanji . so there is also confusion in staff of price selecting giving notation i not satisfied because of this . so there should be proper understanding in between staff .', 'when i fix the servicing so no message comes your appointment done or not and when i go service center then they told we your appointment was not there . when i call in the center then they told me your appointment was fix that why message should become .', 'they should give pick up drop service . they should increase drive staff or they cancel completely drop facility . one dealership offer one not it should not happen . they should charge for pick up drop it they want . so as per need customer can use it .', 'their no more servicing cars then also they are giving appointment too late .', 'appointment time should be need to checking . if customer need to urgent appointment then they are should be adjusted . the customer care not given directly appointment time . hence , should be cross checking the appointment time', 'an appointment pick up and drop service start in 11am . another dealership this service start in morning . so they should be also start in morning .', 'we have to take appointment to visit dealership so they should stop this system .', \"we have to take appointment from pune . so we face problems so they should give us facility to take appointment from kolhapur before they know us . and if we have any urgency we can tell them . at pune we do n't know anybody so we face problem .\", 'there are calling for appointment . from honda we get calls so they should do follow up that your car servicing is there .', 'spare parts are not available', 'once the appointment is confirm customer can delayed but if the customer is there in time that customer should be not keep waiting . when the customer is already in the service center with their vehicle with his confirm time , then that vehicle should be immediately taken for service not by keeping the vehicle out keeping the customers sitting taking the vehicle for service in 1 hour or 2 hours is not .', 'if customer wants urgent appointment , then the should be given it .', 'no improvement require', 'i am wait till 2 month to get service appointment they should thing customer was wait till month so they should give the appointment early', 'they take more time for appointment at dsk pune . we have to wait for 1 month this is very long time . so they should not take this much time . we should get service in 1 2 weeks only . it means as early as possible .', 'i had done job at solapur so it is convenient for me but for appointment we have to call pune . so they should start the appointment system from solapur only . and appointment manages from there only .', 'as soon as the car enters the advisor needs to check the car toughly if any problem arises handle the problem on the same time .', 'they are not giving appointment immediately after phone call . we told them kilometer of car then they should give me appointment after 1 or 2 days but they give me appointment after 1 1 . 1 2 month we are not getting proper service .', 'if we visit there on appointment taken time then also they are not take car on time . we have to wait for long time .', 'there is only service centre . so we get more time for appointment . i get appointment of long time . because they have load of cars . so we did not get appointment early .', 'on dealership if should provide pick up drop service is good for us . in pune doing like that they called us take the car give after servicing . some time we are busy we have no time . that time they should provide pick up drop service is good for us .', 'if any problem arises in dealership number they should inform the customer through sms for the appointment purpose .', 'which people taken an appointment , they should first attained them and immediately work on it . before started the worked they should informed us how much it will take time . after committed the time they should delivered a car on time .', 'respondent did not answer what improvement to be done', 'they should given an appointment in 2 to 3 days because my car was used 200 km per day .', 'they should take feedback . we used to wait for 1 month for appointment or 25 days we used to wait . even after 2 days also they say us to wait . the appointment should be available fast', 'every time we have to book an appointment through toll free numbers only . even for any emergency also . if \\\\? we have some other alternative numbers for emergence appointment then it will be good', 'while appointment which time they given for servicing , work should be done on that time and also they should not take another car for servicing which car came first for servicing they should prefer them first .', 'after we took appointment they should remind us for an appointment .', 'appointment needs to be given properly . for appointment we need to wait for one to one half house . management should take the responsibility on appointment the waiting space needs to be wide . they should inform is when the service needs to be given . the appointment needs to be there given within half days .', 'even after 20 25 days also we don \\\\? t get appointment . i got my appointment on 2nd but my car runned for 8000 km . it had only 200km in which i want to go job also . it took 3 days for servicing . they should increase the staff .', 'the spare parts of market price are less 30 difference in parts of charges they provide us .', 'i never went to service center by taking an appointment because whenever i went there they do the servicing at that time because that time the cars are not present there which have taken time for the servicing . they should improve the appointment time schedule .', 'they gave appointment after 4 5 days . when we dropped the car for servicing , they took 2 3 days .', 'they should open one more service center as the service center have too much rush and because of that customer not able to take appointment according to his convenient', 'workshop should be broad to avoid harshness of customers from overcrowded situation .', 'no no . i won \\\\? t give any suggestion for this it is their own problem that how the way them makes customer satisfied .', 'they should properly deal with the customers .', 'do not deliver the car on fixed time of appointment . gives 3 days of gap after booking an appointment . even if we re emergency they do not give appointment . not on other time but at least on emergency they need to serve the customer accordingly .', \"if a person is in an emergency , the service center people should cooperate with the customers . if there is a customer who is free or has lots of time and if he wants to take his car to the service center and requests the service center people for the same , the service center people should pay attention to the customers request . but the customer care people are very adamant that they cannot give the number . it 's understandable that you ca n't give number but you should compromise and help the customer out with his request . now a days everyone is in a hurry and if someone is asking for an appointment , they should be provided with it . the service center people should analyze the customers situation and cooperate accordingly with them .\", \"they should call back to the customer when they missed customer 's call\", 'they should improve in pickup drop facility . they do delay in this facility . when i am taking appointment now a days life is very busy so they give pickup drop facility . his pickup drop facilities are very less . for example if we want tomorrow appointment then his guys are not ready to give , they postpone the day after a week or 2 week later that time his guys are available . so for this they should increase the staff', 'no improvement require', 'there should be messaging facility for servicing appointment .', 'when car gone there for servicing that time service advisor should come because he was came late .', 'they should do quick service of our vehicle after appointment .', 'it is good but need to improve', 'no improvement require', 'they should have flexibility to fix an appointment . we always get an appointment after two days if we should get an appointment within 24 hours so , it will good .', 'if customer gone there without any appointment so they should handle a customers as soon as possible and also customers should not wait so much it me', 'they should not attend first the customer whom they know', 'we taken appointment then also we had to wait there almost 4 5 hour so they should do that work within half hour .', 'they should do improvement in appointment timing . timing have lots of gap .', 'the service center should briefly explain the days . if the car running about it then the car should be done for servicing . they should call their customer . when you bring your car \\\\? or how much km the car runner .', 'we don \\\\? t have to call at banaras service center for car appointment . insisted of that they should give this facility at assam grad so we can get appointment fast . because when i call banaras service center i have to call 3 4 times . if i complaint why you are reserving my call then they replay that you are calling at the time of launch .', 'there not giving appointment on time . the producer should be easy . customer should get appointment when he needed .', 'they should regularly call me for car servicing .', 'they should not take 15 20 days for appointment it should get within 1 week because i am free on saturday because i require car on those days so that why i require appointment as much as possible .', 'they should improve in appointment . when we demand for appointment they should give it in minimum 7 days . because they told to wait for 1 month , so that we have to visit sharayu for servicing .', 'waiting time is more parts are available of car .', 'appointment should be book an online . booking should be happen fast .', 'they should inform customer all information on phone . so customer time will not waste phone through customer can register car number . so phone sport is necessary .', 'arrangement of service appointment for this i will say my friend is coming hearer picking my vehicle taking their for servicing . mr . ankit he is providing me good service he comes to pick my car for servicing , after completing he just delivering me that . this service provided by my friend mr . ankit not from the side of toyota corolla , they are charging for that pick drop . this kind of hurting thing remains in the minds of customer forever .', 'they should improve on service appointment it needs to be done fast .', 'appointment should be as per customer request', 'when we call for appointment at that time mobile was switch off . the service center opens at 10 00 am but i started calling at 9 30am and that time only the mobile was servictch off i got appointment tab 10 30 am and evening 3 00 pm also the mobile was scratch . in service center if a lay calls that time the mobile was on after that it will be scratch off . there is no one to stop them they do all the work as per their over .', 'they should deliver the car at the give time but here it takes more time to deliver the car .', 'if customer visited early morning without appointment then they take service tare they have this clause that early morning it we want to do servicing then we have to pay 10 to 25 .']\n"
     ]
    }
   ],
   "source": []
  },
  {
   "cell_type": "code",
   "execution_count": 4,
   "metadata": {
    "scrolled": false
   },
   "outputs": [
    {
     "name": "stdout",
     "output_type": "stream",
     "text": [
      "length of new content 395\n"
     ]
    }
   ],
   "source": [
    "# split comment with multi-sentence into multi-comments\n",
    "content_new = []\n",
    "for comment in content:\n",
    "    sents = sent_tokenize(comment)\n",
    "    if len(sents) > 1:\n",
    "        for i in range(len(sents)):\n",
    "            content_new.append(sents[i])\n",
    "    else:\n",
    "        content_new.append(comment)\n",
    "print 'length of new content', len(content_new)\n",
    "# print content_new\n",
    "    "
   ]
  },
  {
   "cell_type": "code",
   "execution_count": 5,
   "metadata": {},
   "outputs": [
    {
     "name": "stdout",
     "output_type": "stream",
     "text": [
      "ungenc\n"
     ]
    }
   ],
   "source": [
    "stemmer = PorterStemmer()\n",
    "print stemmer.stem(\"ungency\")"
   ]
  },
  {
   "cell_type": "code",
   "execution_count": 6,
   "metadata": {},
   "outputs": [
    {
     "name": "stdout",
     "output_type": "stream",
     "text": [
      "signle sentence with nn 326\n",
      "no comments 9\n",
      "single sentence without nn 60\n"
     ]
    }
   ],
   "source": [
    "\n",
    "def rule_q1(sen, ne):\n",
    "    clean_ne = list(set(ne))\n",
    "    # remove_words = ['customer', 'customers', 'waiting', 'facility', 'facilities', 'dealership', 'toyota', 'improvement']\n",
    "    remove_words = [\"appoint\", \"improv\", \"custom\", \"servic\", \"peopl\",\"person\",\"facil\",\"avail\",\"good\",\\\n",
    "                    \"center\",\"centr\",\"car\", \"dealership\", \"vehicl\", \"toyota\", \"problem\",\"work\", \"much\",\\\n",
    "                   \"thing\", \"possibl\",\"need\"]   #stemmed\n",
    "    clean_ne = [word for word in clean_ne if word not in remove_words]\n",
    "    \n",
    "    save_words = [\"without\", \"call\",\"wait\", \"pick\", \"pickup\", \"drop\",\"remind\", \"inform\", \"respons\", \"book\",\"fix\",\\\n",
    "                 \"receiv\", \"same\", \"sm\", \"immedi\", \"urgent\",\"urgenc\",\"deliv\",\"deliveri\",\"explain\", \"detail\"]  #stemmed\n",
    "    clean_ne = clean_ne + [stemmer.stem(word) for word in sen.split() if stemmer.stem(word) in save_words]\n",
    "    \n",
    "    # rules to merge keywords:\n",
    "    if 'pickup' in clean_ne:\n",
    "        clean_ne[clean_ne.index('pickup')] = 'pick'\n",
    "    if 'phone' in clean_ne:\n",
    "        clean_ne[clean_ne.index('phone')] = 'call'\n",
    "    if 'telephon' in clean_ne:\n",
    "        clean_ne[clean_ne.index('telephon')] = 'call'\n",
    "    if 'messag' in clean_ne:\n",
    "        clean_ne[clean_ne.index('messag')] = 'sm'\n",
    "    if 'km' in clean_ne:\n",
    "        clean_ne[clean_ne.index('km')] = 'locat'\n",
    "    if 'area' in clean_ne:\n",
    "        clean_ne[clean_ne.index('area')] = 'locat'\n",
    "    if 'deliveri' in clean_ne:\n",
    "        clean_ne[clean_ne.index('deliveri')] = 'deliv'   \n",
    "    if 'urgent' in clean_ne:\n",
    "        clean_ne[clean_ne.index('urgent')] = 'emerg'\n",
    "    if 'urgenc' in clean_ne:\n",
    "        clean_ne[clean_ne.index('urgenc')] = 'emerg'\n",
    "    if 'detail' in clean_ne:\n",
    "        clean_ne[clean_ne.index('detail')] = 'inform'\n",
    "    if 'explain' in clean_ne:\n",
    "        clean_ne[clean_ne.index('explain')] = 'inform'\n",
    "    if 'should tell' in sen:\n",
    "        clean_ne.append('inform')\n",
    "    # add keyword \"appointment\"\n",
    "    if 'book' in clean_ne:\n",
    "        clean_ne[clean_ne.index('book')] = 'appointment'\n",
    "    if 'day' in clean_ne:  # split 'day' to 'appointment' and 'wait'\n",
    "        if 'appointment' in sen:\n",
    "            clean_ne[clean_ne.index('day')] = 'appointment'\n",
    "        elif 'days' in sen:\n",
    "            clean_ne[clean_ne.index('day')] = 'wait'\n",
    "        else:\n",
    "            clean_ne.remove('day')\n",
    "    if 'week' in clean_ne and 'appointment' in sen:\n",
    "        clean_ne[clean_ne.index('week')] = 'appointment'\n",
    "    if 'month' in clean_ne and 'appointment' in sen:\n",
    "        clean_ne[clean_ne.index('month')] = 'appointment'\n",
    "    # add keyword \"without_appointment\"\n",
    "    if 'without appointment' in sen or 'without any appointment' in sen:\n",
    "        clean_ne.append('without_appointment')\n",
    "    # add keyword \"on_time\"\n",
    "    if 'on time' in sen and 'time' in clean_ne:\n",
    "        clean_ne[clean_ne.index('time')] = 'on_time'\n",
    "    if 'that time' in sen and ('servic' in sen or 'work' in sen or 'attend' in sen) and 'time' in clean_ne:\n",
    "        clean_ne[clean_ne.index('time')] = 'on_time'\n",
    "    if 'fulfill' in sen or 'stick' in sen and 'time' in clean_ne:\n",
    "        clean_ne[clean_ne.index('time')] = 'on_time'\n",
    "    # split \"immediately\" into \"wiat\" and \"appointment\" cluster\n",
    "    if 'immedi' in clean_ne:\n",
    "        if 'servic' in sen or 'work' in sen or 'attend' in sen:\n",
    "            clean_ne[clean_ne.index('immedi')] = 'wait'\n",
    "        else:\n",
    "            clean_ne[clean_ne.index('immedi')] = 'appointment'\n",
    "    # split 'time' to other clusters\n",
    "    if 'too much time' in sen:\n",
    "        clean_ne[clean_ne.index('time')] = 'wait'\n",
    "    if 'long time' in sen:\n",
    "        if 'appointment' in sen:\n",
    "            clean_ne[clean_ne.index('time')] = 'appointment'\n",
    "        else:\n",
    "            clean_ne[clean_ne.index('time')] = 'wait'\n",
    "    if 'time' in clean_ne:\n",
    "        if 'appointment' in sen:\n",
    "            clean_ne[clean_ne.index('time')] = 'appointment'\n",
    "        else:\n",
    "            clean_ne.remove('time')   # remove other 'times'\n",
    "        \n",
    "    clean_ne = list(set(clean_ne))\n",
    "    return clean_ne\n",
    "\n",
    "def clean_corpus(x1):\n",
    "    x_new = []\n",
    "    for x in x1:\n",
    "        if 'no improvement' in x:\n",
    "            continue\n",
    "        else:\n",
    "            x_new.append(x)\n",
    "    return x_new\n",
    "\n",
    "def process_corpus(x1, pos_tags, general_stop):\n",
    "    # split three categories: 1 no improvemnt 2 with noun 3 others\n",
    "    doc_noimprove = []\n",
    "    doc_nn = []\n",
    "    nn_extracted = []\n",
    "    doc_other = []\n",
    "    for x in x1:\n",
    "        if 'no improvement' in x:\n",
    "            doc_noimprove.append(x)\n",
    "        else:\n",
    "                nn_list = []\n",
    "                sen = x\n",
    "                pos_new = nltk.pos_tag(nltk.word_tokenize(sen))\n",
    "                for token in pos_new:\n",
    "                    if token[1] in pos_tags and not token[0] in general_stop:\n",
    "                        nn_list.append(token[0])\n",
    "                #stemming\n",
    "                for counter,word in enumerate(nn_list):\n",
    "                    nn_list[counter] = stemmer.stem(word)\n",
    "                # apply rule\n",
    "                nn_list = rule_q1(sen, nn_list)\n",
    "                    \n",
    "                if nn_list != []:\n",
    "                    nn_extracted.append(nn_list)\n",
    "                    doc_nn.append(sen)\n",
    "                else:\n",
    "                    doc_other.append(sen)\n",
    "    return doc_noimprove, [doc_nn, nn_extracted], doc_other\n",
    "        \n",
    "nn_corpus = []\n",
    "\n",
    "# English stop words lists\n",
    "stop_words = stopwords.words('english')\n",
    "punctuation_list = [unicode(i) for i in string.punctuation]\n",
    "for punctuation in punctuation_list:\n",
    "    stop_words.append(punctuation)\n",
    "\n",
    "pos_tags = ['NN', 'NNS','JJ','JJR','JJS']\n",
    "\n",
    "doc1, doc2, doc3 = process_corpus(content_new, pos_tags, stop_words)\n",
    "\n",
    "doc_nn, nn_extracted = doc2[0], doc2[1]\n",
    "print 'signle sentence with nn', len(doc_nn)\n",
    "print 'no comments', len(doc1)\n",
    "print 'single sentence without nn', len(doc3)\n",
    "# print nn_extracted"
   ]
  },
  {
   "cell_type": "code",
   "execution_count": 7,
   "metadata": {},
   "outputs": [
    {
     "name": "stdout",
     "output_type": "stream",
     "text": [
      "Counter({'appointment': 62, 'call': 49, 'wait': 44, 'on_time': 24, 'pick': 22, 'drop': 17, 'number': 14, u'locat': 13, 'staff': 12, 'hour': 12, 'fix': 11, u'emerg': 11, 'inform': 11, u'receiv': 9, u'book': 8, 'free': 7, 'app': 7, 'same': 7, u'mobil': 6, 'deliv': 6, u'respons': 5, 'pune': 5, 'long': 5, u'conveni': 5, u'onlin': 5, 'sm': 5, 'month': 4, u'busi': 4, u'earli': 4, 'proper': 4, 'space': 4, 'pickup': 4, 'job': 4, 'care': 4, 'half': 3, 'quick': 3, u'kilomet': 3, 'last': 3, 'place': 3, u'schedul': 3, 'advisor': 3, 'fast': 3, 'next': 3, 'station': 3, u'morn': 3, u'friend': 3, u'part': 3, u'compani': 3, u'provid': 3, 'give': 3, 'without': 3, 'take': 3, u'user': 3, 'without_appointment': 3, 'request': 3, u'easi': 2, 'local': 2, 'period': 2, 'fullest': 2, u'banara': 2, 'remind': 2, 'crowd': 2, 'home': 2, u'awar': 2, u'abl': 2, 'showroom': 2, u'situat': 2, u'differ': 2, u'satisfi': 2, 'spare': 2, 'card': 2, u'outsid': 2, u'mani': 2, u'confus': 2, 'first': 2, 'mr': 2, 'system': 2, 'market': 2, u'manag': 2, u'citi': 2, 'way': 2, 'start': 2, 'pm': 2, u'lot': 2, 'gap': 2, 'ok': 2, 'rush': 2, u'whenev': 2, u'exampl': 2, u'henc': 2, 'dealer': 2, u'comfort': 2, u'detail': 2, 'till': 2, 'week': 2, 'price': 2, u'attent': 2, u'charg': 2, u'advic': 2, 'confirm': 2, 'drive': 2, 'approx': 1, 'least': 1, 'feedback': 1, u'less': 1, u'queri': 1, 'lay': 1, 'runner': 1, 'tare': 1, 'ormanji': 1, u'flexibl': 1, 'speed': 1, 'perfect': 1, 'jaipur': 1, 'sharayu': 1, u'solut': 1, u'forev': 1, 'better': 1, u'pondicherri': 1, 'scratch': 1, u'cross': 1, u'futur': 1, u'applic': 1, 'chennai': 1, 'get': 1, 'honda': 1, u'overcrowd': 1, 'kind': 1, 'assam': 1, 'test': 1, 'traffic': 1, 'compound': 1, u'coimbator': 1, 'one': 1, 'net': 1, 'vilaspur': 1, 'side': 1, 'workshop': 1, 'correct': 1, u'benefit': 1, u'necessari': 1, 'annamalai': 1, u'guy': 1, 'grad': 1, u'unnecessari': 1, u'respond': 1, 'corolla': 1, 'frame': 1, u'knowledg': 1, u'proactiv': 1, u'consum': 1, 'urgent': 1, 'lanson': 1, 'happen': 1, 'sport': 1, 'arrangimg': 1, u'fishayal': 1, u'even': 1, u'immidi': 1, 'expert': 1, 'broad': 1, u'asid': 1, 'doen': 1, 'renold': 1, 'dsk': 1, u'rel': 1, 'toll': 1, 'new': 1, 'method': 1, 'wide': 1, u'altern': 1, u'difficulti': 1, 'full': 1, u'inspect': 1, 'small': 1, 'ankit': 1, u'address': 1, 'jd': 1, 'earliest': 1, 'water': 1, 'f': 1, 'launch': 1, u'commun': 1, u'nearbi': 1, u'festiv': 1, 'whole': 1, 'road': 1, 'load': 1, u'depart': 1, 'parellel': 1, 'uttam': 1, 'owner': 1, u'mistak': 1, 'tomorrow': 1, u'prioriti': 1, 'use': 1, 'sbi': 1, u'urgenc': 1, 'slot': 1, 'visit': 1, 'due': 1, 'treat': 1, u'deliveri': 1, 'life': 1, u'hous': 1, 'amana': 1, u'hurri': 1, 'park': 1, u'understand': 1, u'procedur': 1, 'consult': 1, u'nobodi': 1, 'present': 1, 'town': 1, u'notat': 1, 'look': 1, 'surat': 1, 'matter': 1, 'near': 1, u'pointi': 1, u'arrang': 1, u'minut': 1, u'purpos': 1, u'everyon': 1, 'ac': 1, u'comput': 1, u'readi': 1, u'mind': 1, 'year': 1, u'conat': 1, 'minimum': 1, 'manner': 1, 'tab': 1, 'end': 1, u'googl': 1, 'prior': 1, 'solapur': 1, 'saturday': 1, 'note': 1, 'sunday': 1, 'pad': 1, 'branch': 1, u'minuet': 1, u'singl': 1, u'complet': 1, u'claus': 1, 'normal': 1, 'buffer': 1, u'someon': 1, 'alert': 1, 'driven': 1, u'harsh': 1, u'produc': 1, 'client': 1, u'adam': 1, u'clean': 1, u'suggest': 1, u'promis': 1, u'senior': 1, u'anybodi': 1})\n"
     ]
    }
   ],
   "source": [
    "from collections import Counter\n",
    "def df_count(x1):\n",
    "    text = []\n",
    "    for ab in x1:\n",
    "        text = text + ab\n",
    "    df = Counter(text)\n",
    "    return df\n",
    "df = df_count(nn_extracted)\n",
    "print df"
   ]
  },
  {
   "cell_type": "code",
   "execution_count": 8,
   "metadata": {
    "scrolled": false
   },
   "outputs": [
    {
     "name": "stdout",
     "output_type": "stream",
     "text": [
      "rule_fix applied\n",
      "rule_fix applied\n",
      "rule_fix applied\n",
      "Counter({'appointment': 46, 'wait': 44, 'call': 32, 'on_time': 16, 'pick': 15, 'emerg': 11, 'staff': 10, u'locat': 10, 'inform': 10, u'receiv': 8, 'app': 7, u'fix': 6, 'deliv': 6, 'number': 5, u'onlin': 5, 'sm': 5, 'without_appointment': 3, u'earli': 2, u'situat': 2, 'job': 2, 'pune': 2, 'system': 2, 'fast': 2, 'way': 2, u'morn': 2, 'care': 2, u'part': 2, 'dealer': 2, 'same': 2, 'feedback': 1, 'month': 1, 'speed': 1, 'perfect': 1, u'easi': 1, 'better': 1, u'busi': 1, 'local': 1, 'fullest': 1, 'drop': 1, 'remind': 1, 'quick': 1, u'manag': 1, u'respond': 1, 'crowd': 1, u'procedur': 1, u'respons': 1, 'proper': 1, 'home': 1, 'arrangimg': 1, u'even': 1, u'awar': 1, 'space': 1, u'kilomet': 1, 'full': 1, 'free': 1, u'satisfi': 1, 'small': 1, 'advisor': 1, 'sbi': 1, 'place': 1, 'load': 1, u'depart': 1, 'one': 1, 'parellel': 1, 'owner': 1, 'market': 1, u'differ': 1, 'earliest': 1, 'station': 1, 'friend': 1, 'pm': 1, u'lot': 1, 'amana': 1, 'ormanji': 1, u'compani': 1, 'kind': 1, u'conveni': 1, 'hour': 1, 'f': 1, u'provid': 1, 'matter': 1, 'mr': 1, 'ac': 1, 'runner': 1, u'comfort': 1, 'note': 1, 'sunday': 1, u'week': 1, u'attent': 1, u'advic': 1, 'request': 1, u'senior': 1})\n",
      "majot list:\n",
      "['staff', u'locat', u'fix', 'appointment', 'pick', 'app', 'number', 'call', 'wait', 'deliv', u'onlin', 'on_time', u'receiv', 'without_appointment', 'inform', 'emerg', 'sm']\n",
      "clustered index: [0, 1, 3, 4, 5, 6, 7, 8, 9, 10, 11, 12, 13, 14, 15, 17, 19, 21, 23, 26, 27, 28, 29, 30, 31, 33, 34, 36, 38, 39, 40, 41, 42, 45, 46, 47, 48, 49, 50, 51, 52, 55, 56, 57, 59, 60, 62, 63, 64, 65, 66, 67, 68, 69, 70, 72, 73, 74, 75, 76, 77, 79, 80, 81, 82, 83, 85, 86, 88, 89, 90, 91, 92, 93, 95, 96, 97, 98, 100, 101, 103, 104, 106, 110, 111, 112, 113, 114, 115, 116, 117, 118, 120, 124, 126, 127, 128, 129, 130, 131, 132, 133, 135, 137, 138, 139, 140, 141, 142, 143, 145, 147, 150, 154, 155, 157, 158, 159, 160, 161, 162, 163, 165, 166, 167, 168, 169, 170, 171, 173, 174, 175, 178, 179, 180, 184, 185, 186, 187, 188, 189, 190, 192, 193, 194, 195, 196, 198, 199, 200, 201, 202, 203, 208, 210, 211, 213, 214, 215, 216, 217, 218, 221, 225, 226, 228, 229, 230, 231, 234, 235, 237, 238, 239, 240, 241, 243, 245, 246, 248, 249, 250, 251, 253, 254, 255, 256, 257, 258, 260, 261, 263, 264, 265, 266, 270, 271, 272, 273, 274, 276, 277, 278, 280, 281, 282, 283, 284, 285, 286, 288, 289, 290, 291, 292, 294, 295, 297, 299, 300, 301, 303, 304, 305, 306, 307, 308, 309, 310, 311, 312, 313, 315, 317, 320, 321, 322, 324, 325]\n",
      "others index: [2, 16, 18, 20, 22, 24, 25, 32, 35, 37, 43, 44, 53, 54, 58, 61, 71, 78, 84, 87, 94, 99, 102, 105, 107, 108, 109, 119, 121, 122, 123, 125, 134, 136, 144, 146, 148, 149, 151, 152, 153, 156, 164, 172, 176, 177, 181, 182, 183, 191, 197, 204, 205, 206, 207, 209, 212, 219, 220, 222, 223, 224, 227, 232, 233, 236, 242, 244, 247, 252, 259, 262, 267, 268, 269, 275, 279, 287, 293, 296, 298, 302, 314, 316, 318, 319, 323]\n",
      "[6, 7, 27, 38, 48, 77, 92, 96, 97, 106, 115, 116, 160, 162, 163, 168, 173, 175, 210, 211, 221, 235, 280, 295, 297, 299, 300, 303, 311, 312, 321, 322]\n"
     ]
    }
   ],
   "source": [
    "import heapq\n",
    "import os\n",
    "def filter_rule_q1(doc, xth, test_corpus, original_corpus = doc_nn):\n",
    "    apply_rule = False\n",
    "    # print original_corpus[xth]\n",
    "    # rules (priority from high to low)\n",
    "    if 'app' in doc:\n",
    "        test_corpus[xth] = ['app']\n",
    "        apply_rule = True\n",
    "    elif 'without_appointment' in doc:\n",
    "        test_corpus[xth] = ['without_appointment']\n",
    "        apply_rule = True\n",
    "    elif 'sm' in doc:\n",
    "        test_corpus[xth] = ['sm']\n",
    "        apply_rule = True\n",
    "    elif 'onlin' in doc:\n",
    "        test_corpus[xth] = ['onlin']\n",
    "        apply_rule = True\n",
    "    elif 'emerg' in doc:\n",
    "        test_corpus[xth] = ['emerg']\n",
    "        apply_rule = True\n",
    "    elif 'deliv' in doc:\n",
    "        test_corpus[xth] = ['deliv']\n",
    "        apply_rule = True\n",
    "    elif 'inform' in doc:\n",
    "        test_corpus[xth] = ['inform']\n",
    "        apply_rule = True\n",
    "    elif 'fix' in doc:\n",
    "        test_corpus[xth] = ['fix']\n",
    "        print \"rule_fix applied\"\n",
    "        apply_rule = True\n",
    "    elif 'pick' in doc and 'drop' in doc:\n",
    "        test_corpus[xth] = ['pick']\n",
    "        apply_rule = True\n",
    "    elif 'wait' in doc and 'month' not in original_corpus[xth]:\n",
    "        test_corpus[xth] = ['wait']\n",
    "        apply_rule = True\n",
    "    elif 'hour' in doc:\n",
    "        test_corpus[xth] = ['wait']\n",
    "        apply_rule = True\n",
    "    elif 'appointment' in doc or 'day' in doc or 'week' in doc and 'call' in doc: # from call to appointment\n",
    "        test_corpus[xth] = ['appointment']\n",
    "        apply_rule = True\n",
    "        \n",
    "    return apply_rule\n",
    "    \n",
    "def filter_ne(test_corpus, df):  # assuming each review contain one aspect\n",
    "    for xth, doc in enumerate(test_corpus):\n",
    "        if len(doc)>1:\n",
    "            apply_rule = filter_rule_q1(doc, xth, test_corpus)\n",
    "            if not apply_rule:\n",
    "                df_words = [df[word] for word in doc]\n",
    "                idx =  heapq.nlargest(1, xrange(len(df_words)), key=df_words.__getitem__)\n",
    "                test_corpus[xth] = [doc[ith] for ith in idx]\n",
    "    return test_corpus\n",
    "nn_clean = filter_ne(nn_extracted, df)\n",
    "df = df_count(nn_clean)\n",
    "dict_map = dict(df.most_common())\n",
    "print df\n",
    "\n",
    "def write_file(corpus, idx_list, word):\n",
    "    if not os.path.isdir(\"cluster/%s\" %word):\n",
    "            os.mkdir(\"cluster/%s\" %word)\n",
    "    f1 = open('cluster/%s/%s_comment.txt' % (word, word), 'w+')\n",
    "    for idx in idx_list:\n",
    "        f1.write('%s\\n' %corpus[idx])\n",
    "    f1.close()\n",
    "    \n",
    "    \n",
    "def main_category(df_list, nn_clean, corpus):\n",
    "    if (not os.path.isdir(\"cluster\")):\n",
    "        os.mkdir(\"cluster\")\n",
    "    name_list = {}\n",
    "    clustered_index = []\n",
    "    major_list = [word for word in df_list if df_list[word]>2]\n",
    "    print \"majot list:\\n\", major_list\n",
    "    for word in major_list:\n",
    "        idx_set = []\n",
    "        for idx, doc in enumerate(nn_clean):\n",
    "            if word in doc:\n",
    "                idx_set.append(idx)\n",
    "        write_file(doc_nn, idx_set, word)\n",
    "        name_list[word] = idx_set\n",
    "        clustered_index = clustered_index + idx_set\n",
    "    clustered_index = set(clustered_index)\n",
    "    print \"clustered index:\", list(clustered_index)\n",
    "    unclustered_index = list(set(range(len(nn_clean))) - clustered_index)\n",
    "    print \"others index:\", unclustered_index\n",
    "    name_list['others'] = unclustered_index\n",
    "    write_file(doc_nn, unclustered_index, 'others')\n",
    "    return name_list\n",
    "\n",
    "name_list = main_category(dict_map, nn_clean,doc_nn)\n",
    "# print name_list['call']"
   ]
  },
  {
   "cell_type": "code",
   "execution_count": null,
   "metadata": {
    "collapsed": true
   },
   "outputs": [],
   "source": []
  },
  {
   "cell_type": "code",
   "execution_count": null,
   "metadata": {
    "collapsed": true
   },
   "outputs": [],
   "source": []
  },
  {
   "cell_type": "code",
   "execution_count": null,
   "metadata": {
    "collapsed": true
   },
   "outputs": [],
   "source": []
  }
 ],
 "metadata": {
  "kernelspec": {
   "display_name": "Python 2",
   "language": "python",
   "name": "python2"
  },
  "language_info": {
   "codemirror_mode": {
    "name": "ipython",
    "version": 2
   },
   "file_extension": ".py",
   "mimetype": "text/x-python",
   "name": "python",
   "nbconvert_exporter": "python",
   "pygments_lexer": "ipython2",
   "version": "2.7.13"
  }
 },
 "nbformat": 4,
 "nbformat_minor": 2
}
