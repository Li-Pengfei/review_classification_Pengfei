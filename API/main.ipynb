{
 "cells": [
  {
   "cell_type": "code",
   "execution_count": 1,
   "metadata": {},
   "outputs": [
    {
     "name": "stderr",
     "output_type": "stream",
     "text": [
      "Using TensorFlow backend.\n"
     ]
    }
   ],
   "source": [
    "import numpy as np\n",
    "import random\n",
    "import cPickle\n",
    "import os.path\n",
    "import math\n",
    "os.environ[\"CUDA_DEVICE_ORDER\"] = \"PCI_BUS_ID\"   # see issue #152\n",
    "os.environ[\"CUDA_VISIBLE_DEVICES\"] = \"1\"\n",
    "\n",
    "from sklearn.metrics import confusion_matrix, f1_score, accuracy_score, average_precision_score\n",
    "from sklearn.model_selection import train_test_split\n",
    "from sklearn.preprocessing import MultiLabelBinarizer\n",
    "\n",
    "import tensorflow as tf\n",
    "from keras.utils import *\n",
    "from keras import backend as K\n",
    "from keras.layers.normalization import BatchNormalization\n",
    "from keras.layers import Embedding, Input, Conv1D\n",
    "from keras.layers.merge import Maximum, Concatenate, Average\n",
    "from keras.layers.pooling import MaxPooling1D, AveragePooling1D, GlobalAveragePooling1D, GlobalMaxPooling1D\n",
    "from keras.models import Model\n",
    "from keras import regularizers\n",
    "from keras.layers.core import Dense, Dropout, Activation, Flatten, Reshape, Lambda\n",
    "from keras.constraints import maxnorm\n",
    "\n",
    "from survey_reader import *\n",
    "from w2v import train_word2vec\n",
    "import data_helpers\n",
    "\n",
    "currentpath = '/data1/shared_all/review_classification_Pengfei/'\n",
    "os.chdir(currentpath)\n"
   ]
  },
  {
   "cell_type": "markdown",
   "metadata": {
    "collapsed": true
   },
   "source": [
    "# Load data and data preparation"
   ]
  },
  {
   "cell_type": "code",
   "execution_count": 2,
   "metadata": {},
   "outputs": [
    {
     "name": "stdout",
     "output_type": "stream",
     "text": [
      "('uni_label', [u'Emergency', u'Ordinary Situation', u'Problem', u'Special Occasion'])\n",
      "('uni_label', [u'Care from Staff', u'Dealer Event', u'Detailed Explanation', u'Forgotten Stuff', u'Free Service / Discount', u'Gift / Free Stuff', u'Gift / Free stuff', u'Issue Resolution', u'Others', u'Personal Need', u'Pick Up / Drop', u'Pick up / Drop', u'Quick Service', u'Roadside Assistance', u'Snacks'])\n",
      "('uni_label', [u'Caring Attitude', u'Expertise', u'Flexibility', u'Others', u'Transparency'])\n",
      "Load data...\n",
      "Counter({u'Caring Attitude': 3008, u'Flexibility': 1383, u'Expertise': 1065, u'Transparency': 116, u'Others': 4})\n",
      "('x shape:', (5576, 1033))\n",
      "('y shape:', (5576, 5))\n",
      "4549 out of 6261 words found in the word2vec vocab\n",
      "('sequence length:', 1033)\n"
     ]
    }
   ],
   "source": [
    "def load_data(data_source, y):\n",
    "\n",
    "    x, sequence_length, vocabulary, vocabulary_inv_list = data_helpers.load_data(data_source)\n",
    "    print(\"x shape:\", x.shape)\n",
    "    print(\"y shape:\", y.shape)\n",
    "    vocabulary_inv = {key: value for key, value in enumerate(vocabulary_inv_list)}\n",
    "\n",
    "    shuffle_indices = np.random.permutation(np.arange(len(y)))\n",
    "    x = x[shuffle_indices]\n",
    "    y = y[shuffle_indices]\n",
    "\n",
    "    train_len = int(len(x) * 0.8)\n",
    "    x_train = x[:train_len]\n",
    "    y_train = y[:train_len]\n",
    "    x_test = x[train_len:]\n",
    "    y_test = y[train_len:]\n",
    "\n",
    "    embedding_file = './API/word2vec.p'\n",
    "    if os.path.exists(embedding_file):\n",
    "        embedding_weights = cPickle.load(open(embedding_file, \"rb\"))\n",
    "    else:\n",
    "        embedding_weights = data_helpers.load_bin_vec('/data1/shared_all/GoogleNews-vectors-negative300.bin', [new_vocab for new_vocab in vocabulary])\n",
    "        cPickle.dump(embedding_weights, open(embedding_file, \"wb\"))\n",
    "\n",
    "    x_train = np.stack([np.stack([embedding_weights[word] for word in sentence]) for sentence in x_train])\n",
    "    x_test = np.stack([np.stack([embedding_weights[word] for word in sentence]) for sentence in x_test])\n",
    "\n",
    "    return x_train, y_train, x_test, y_test, vocabulary_inv, sequence_length\n",
    "\n",
    "\n",
    "xlsx_file = './data/HT Data.xlsx'\n",
    "roi_list = ['HT Experience', 'Context', 'Content', 'Driver']\n",
    "data, label = read_Surveycsv(xlsx_file, roi_list)\n",
    "\n",
    "# Data Preparation\n",
    "print(\"Load data...\")\n",
    "label_name = 'driver'\n",
    "if label_name is 'context':\n",
    "    class_name = label[0][1]\n",
    "    nb_classes = len(label[0][1])\n",
    "    sub_label = to_categorical(label[0][0], num_classes=nb_classes)\n",
    "elif label_name is 'content':\n",
    "    class_name = label[1][1]\n",
    "    nb_classes = len(label[1][1])\n",
    "    sub_label = to_categorical(label[1][0], num_classes=nb_classes)\n",
    "else:\n",
    "    class_name = label[2][1]\n",
    "    nb_classes = len(label[2][1])\n",
    "    sub_label = to_categorical(label[2][0], num_classes=nb_classes)\n",
    "print(class_name)    \n",
    "x_train, y_train, x_test, y_test, vocabulary_inv, sequence_length = load_data(data, sub_label)\n",
    "print(\"sequence length:\", sequence_length)"
   ]
  },
  {
   "cell_type": "markdown",
   "metadata": {},
   "source": [
    "# CNN model building"
   ]
  },
  {
   "cell_type": "code",
   "execution_count": 3,
   "metadata": {},
   "outputs": [
    {
     "name": "stdout",
     "output_type": "stream",
     "text": [
      "Building CNN...\n",
      "('hidden dim:', 100)\n"
     ]
    }
   ],
   "source": [
    "# Model Hyperparameters\n",
    "embedding_dim = 300\n",
    "vocabsize = len(vocabulary_inv)\n",
    "dropout_prob = 0.3\n",
    "batch_size = 50\n",
    "num_epochs = 30\n",
    "nb_filter = 100\n",
    "filter_len = [3, 4, 5]\n",
    "# hidden_dims = int(math.floor((len(filter_len) * nb_filter + nb_classes) / 3))\n",
    "hidden_dims = 100\n",
    "\n",
    "\n",
    "# Build CNN\n",
    "print(\"Building CNN...\")\n",
    "graph_input1 = Input(shape=(sequence_length, embedding_dim))\n",
    "embed1 = Embedding(vocabsize, embedding_dim, input_length=sequence_length, name=\"embedding\")(graph_input1)\n",
    "convs1 = []\n",
    "for fsz in filter_len:\n",
    "    conv1 = Conv1D(filters=nb_filter, kernel_size=fsz, activation='tanh', padding='same',)(graph_input1)\n",
    "    pool1 = GlobalMaxPooling1D()(conv1)\n",
    "    convs1.append(pool1)\n",
    "# y1 = Concatenate()(convs1) if len(convs1) > 1 else convs1[0]\n",
    "y1 = Concatenate()(convs1)\n",
    "z1 = Dropout(dropout_prob)(y1)\n",
    "\n",
    "z1 = Dense(hidden_dims, kernel_constraint=maxnorm(2))(z1)\n",
    "print(\"hidden dim:\", hidden_dims)\n",
    "# z1 = BatchNormalization()(z1)\n",
    "z1 = Activation('tanh')(z1)\n",
    "z1 = Dropout(dropout_prob)(z1)\n",
    "\n",
    "z1 = Dense(nb_classes)(z1)\n",
    "# z1 = BatchNormalization()(z1)\n",
    "model_output1 = Activation('softmax')(z1)\n",
    "cnn_model = Model(inputs=graph_input1, outputs=model_output1)\n",
    "cnn_model.compile(optimizer='Adam', loss='categorical_crossentropy', metrics=['accuracy'])"
   ]
  },
  {
   "cell_type": "markdown",
   "metadata": {},
   "source": [
    "# Model Training"
   ]
  },
  {
   "cell_type": "code",
   "execution_count": 4,
   "metadata": {},
   "outputs": [
    {
     "name": "stdout",
     "output_type": "stream",
     "text": [
      "Training CNN...\n",
      "\n",
      "Training for epoch 1 / 30\n",
      "Epoch 1/1\n",
      "11s - loss: 1.0789 - acc: 0.5209\n",
      "driver result is : 59.05\n",
      "\n",
      "Training for epoch 2 / 30\n",
      "Epoch 1/1\n",
      "10s - loss: 0.9511 - acc: 0.5809\n",
      "driver result is : 59.32\n",
      "\n",
      "Training for epoch 3 / 30\n",
      "Epoch 1/1\n",
      "10s - loss: 0.8591 - acc: 0.6330\n",
      "driver result is : 60.30\n",
      "\n",
      "Training for epoch 4 / 30\n",
      "Epoch 1/1\n",
      "10s - loss: 0.7601 - acc: 0.6899\n",
      "driver result is : 60.30\n",
      "\n",
      "Training for epoch 5 / 30\n",
      "Epoch 1/1\n",
      "9s - loss: 0.6604 - acc: 0.7399\n",
      "driver result is : 62.01\n",
      "\n",
      "Training for epoch 6 / 30\n",
      "Epoch 1/1\n",
      "9s - loss: 0.5785 - acc: 0.7749\n",
      "driver result is : 60.48\n",
      "\n",
      "Training for epoch 7 / 30\n",
      "Epoch 1/1\n",
      "9s - loss: 0.4256 - acc: 0.8428\n",
      "driver result is : 57.62\n",
      "\n",
      "Training for epoch 8 / 30\n",
      "Epoch 1/1\n",
      "9s - loss: 0.3283 - acc: 0.8854\n",
      "driver result is : 59.32\n",
      "\n",
      "Training for epoch 9 / 30\n",
      "Epoch 1/1\n",
      "10s - loss: 0.2474 - acc: 0.9202\n",
      "driver result is : 58.24\n",
      "\n",
      "Training for epoch 10 / 30\n",
      "Epoch 1/1\n",
      "10s - loss: 0.1914 - acc: 0.9381\n",
      "driver result is : 60.75\n",
      "\n",
      "Training for epoch 11 / 30\n",
      "Epoch 1/1\n",
      "9s - loss: 0.1535 - acc: 0.9480\n",
      "driver result is : 61.11\n",
      "\n",
      "Training for epoch 12 / 30\n",
      "Epoch 1/1\n",
      "9s - loss: 0.1125 - acc: 0.9670\n",
      "driver result is : 60.30\n",
      "\n",
      "Training for epoch 13 / 30\n",
      "Epoch 1/1\n",
      "9s - loss: 0.0925 - acc: 0.9702\n",
      "driver result is : 59.77\n",
      "\n",
      "Training for epoch 14 / 30\n",
      "Epoch 1/1\n",
      "9s - loss: 0.1024 - acc: 0.9666\n",
      "driver result is : 60.84\n",
      "\n",
      "Training for epoch 15 / 30\n",
      "Epoch 1/1\n",
      "9s - loss: 0.0932 - acc: 0.9673\n",
      "driver result is : 59.05\n",
      "\n",
      "Training for epoch 16 / 30\n",
      "Epoch 1/1\n",
      "10s - loss: 0.1094 - acc: 0.9603\n",
      "driver result is : 58.87\n",
      "\n",
      "Training for epoch 17 / 30\n",
      "Epoch 1/1\n",
      "9s - loss: 0.1068 - acc: 0.9581\n",
      "driver result is : 58.69\n",
      "\n",
      "Training for epoch 18 / 30\n",
      "Epoch 1/1\n",
      "9s - loss: 0.0860 - acc: 0.9711\n",
      "driver result is : 58.24\n",
      "\n",
      "Training for epoch 19 / 30\n",
      "Epoch 1/1\n",
      "10s - loss: 0.0710 - acc: 0.9767\n",
      "driver result is : 60.39\n",
      "\n",
      "Training for epoch 20 / 30\n",
      "Epoch 1/1\n",
      "9s - loss: 0.0916 - acc: 0.9691\n",
      "driver result is : 55.65\n",
      "\n",
      "Training for epoch 21 / 30\n",
      "Epoch 1/1\n",
      "10s - loss: 0.0773 - acc: 0.9740\n",
      "driver result is : 58.96\n",
      "\n",
      "Training for epoch 22 / 30\n",
      "Epoch 1/1\n",
      "9s - loss: 0.0606 - acc: 0.9785\n",
      "driver result is : 57.35\n",
      "\n",
      "Training for epoch 23 / 30\n",
      "Epoch 1/1\n",
      "9s - loss: 0.0549 - acc: 0.9805\n",
      "driver result is : 58.69\n",
      "\n",
      "Training for epoch 24 / 30\n",
      "Epoch 1/1\n",
      "9s - loss: 0.0584 - acc: 0.9771\n",
      "driver result is : 60.04\n",
      "\n",
      "Training for epoch 25 / 30\n",
      "Epoch 1/1\n",
      "10s - loss: 0.0606 - acc: 0.9769\n",
      "driver result is : 59.95\n",
      "\n",
      "Training for epoch 26 / 30\n",
      "Epoch 1/1\n",
      "9s - loss: 0.0423 - acc: 0.9868\n",
      "driver result is : 58.15\n",
      "\n",
      "Training for epoch 27 / 30\n",
      "Epoch 1/1\n",
      "9s - loss: 0.0396 - acc: 0.9868\n",
      "driver result is : 60.39\n",
      "\n",
      "Training for epoch 28 / 30\n",
      "Epoch 1/1\n",
      "9s - loss: 0.0417 - acc: 0.9872\n",
      "driver result is : 60.30\n",
      "\n",
      "Training for epoch 29 / 30\n",
      "Epoch 1/1\n",
      "10s - loss: 0.0305 - acc: 0.9906\n",
      "driver result is : 59.32\n",
      "\n",
      "Training for epoch 30 / 30\n",
      "Epoch 1/1\n",
      "10s - loss: 0.0412 - acc: 0.9839\n",
      "driver result is : 58.69\n"
     ]
    }
   ],
   "source": [
    "# Train CNN\n",
    "print(\"Training CNN...\")\n",
    "acc_list = []\n",
    "for i in range(1, num_epochs + 1):\n",
    "    print(\"\\nTraining for epoch %d / %d\" % (i, num_epochs))\n",
    "    cnn_model.fit(x_train, y_train, epochs=1, batch_size=batch_size, verbose=2)\n",
    "    loss1, accuracy1 = cnn_model.evaluate(x_test, y_test, verbose=2)\n",
    "    acc_list.append(accuracy1*100)\n",
    "    print('%s result is : %0.2f' % (label_name, accuracy1 * 100))\n",
    "\n"
   ]
  },
  {
   "cell_type": "code",
   "execution_count": 5,
   "metadata": {},
   "outputs": [
    {
     "data": {
      "image/png": "[encoded data removed]",
      "text/plain": [
       "<matplotlib.figure.Figure at 0x7f2cd9b2ac10>"
      ]
     },
     "metadata": {},
     "output_type": "display_data"
    }
   ],
   "source": [
    "# plot accuracy  for every epoch\n",
    "import matplotlib.pyplot as plt\n",
    "\n",
    "fig = plt.figure(1, figsize=(15, 10))\n",
    "ax = fig.add_subplot(111)\n",
    "ax.plot(range(num_epochs), acc_list, 'b', label='Accuracy(%)')\n",
    "plt.axis([0, num_epochs, 0, 100])\n",
    "\n",
    "plt.xticks(np.arange(0, num_epochs + 1, 5.0))\n",
    "plt.yticks(np.arange(0, 101, 5.0))\n",
    "plt.ylabel('accuracy(%) ')\n",
    "plt.xlabel('No. of epoch')\n",
    "lgd = ax.legend(bbox_to_anchor=(1.05, 1), loc=2, borderaxespad=0.)\n",
    "fig.subplots_adjust(right=0.8)\n",
    "plt.show()"
   ]
  },
  {
   "cell_type": "code",
   "execution_count": 3,
   "metadata": {},
   "outputs": [
    {
     "data": {
      "text/plain": [
       "['aa', 'bb', '', 'cc']"
      ]
     },
     "execution_count": 3,
     "metadata": {},
     "output_type": "execute_result"
    }
   ],
   "source": [
    "s = 'aa bb  cc'\n",
    "sentences = s.split(\" \")\n",
    "sentences"
   ]
  }
 ],
 "metadata": {
  "kernelspec": {
   "display_name": "Python 2",
   "language": "python",
   "name": "python2"
  },
  "language_info": {
   "codemirror_mode": {
    "name": "ipython",
    "version": 2
   },
   "file_extension": ".py",
   "mimetype": "text/x-python",
   "name": "python",
   "nbconvert_exporter": "python",
   "pygments_lexer": "ipython2",
   "version": "2.7.13"
  }
 },
 "nbformat": 4,
 "nbformat_minor": 2
}
